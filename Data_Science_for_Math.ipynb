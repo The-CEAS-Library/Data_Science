{
  "cells": [
    {
      "cell_type": "markdown",
      "metadata": {
        "id": "eH-2x828dKAU"
      },
      "source": [
        "#**Objectives**\n",
        "* [**Data Manipulation & Visualization**]()\n",
        "* [**Introduction to Machine Learning**](#scrollTo=wgt7Yxc6WwcV&line=1&uniqifier=1)\n",
        "* **Hands-on**\n",
        "  * [**Linear Regression**](#scrollTo=bs5GXp5A5j-h)<br>\n",
        "    * [**Simple Linear**](#scrollTo=T5g6reUk-5ii)\n",
        "    * [**Multi-linear**](#scrollTo=-Z2ns7CW--TG)\n",
        "  * [**Logistic Regression**]()\n",
        "* **Appendix**,
        "\n"
      ]
    },
    {
      "cell_type": "markdown",
      "metadata": {
        "id": "QL40D_6xEgxR"
      },
      "source": [
        "**About Data**<br>\n",
        "'Automobile' dataset that shows the specifications of an automobile in terms of various characteristics <br>\n",
        "Source - **[UCI Machine Learning Repository](https://archive.ics.uci.edu/ml/datasets/Automobile)**"
      ]
    },
    {
      "cell_type": "code",
      "execution_count": null,
      "metadata": {
        "id": "k1NfrxYG0UrQ"
      },
      "outputs": [],
      "source": [
        "!wget https://raw.githubusercontent.com/The-CEAS-Library/Data-Analysis-with-Python-Linear-Regression/main/auto.csv"
      ]
    },
    {
      "cell_type": "code",
      "execution_count": null,
      "metadata": {
        "id": "RwKFuu7vmfv4"
      },
      "outputs": [],
      "source": [
        "import pandas as pd\n",
        "import numpy as np\n",
        "import seaborn as sns\n",
        "import matplotlib.pyplot as plt\n",
        "\n",
        "\n",
        "automobile = pd.read_csv('auto.csv')\n",
        "automobile"
      ]
    },
    {
      "cell_type": "markdown",
      "metadata": {
        "collapsed": true,
        "id": "didszzDEE-8A"
      },
      "source": [
        "### **🦓Selecting data using Column Names**\n",
        "* DataFrame objects are treated like dictionaries using column heads as keys\n",
        "* We use square brackets **[ ]** to select column data and for indexing<br>\n",
        "\n",
        "*Syntax*:<br>\n",
        "**data_frame_object_name [ 'column_name' ]**\n",
        "\n",
        "*Usage*:"
      ]
    },
    {
      "cell_type": "code",
      "source": [
        "automobile['style']"
      ],
      "metadata": {
        "id": "cPEInXde56uL"
      },
      "execution_count": null,
      "outputs": []
    },
    {
      "cell_type": "markdown",
      "metadata": {
        "id": "e6t4gmSJE-8A"
      },
      "source": [
        "* You may selct more than one column at a time by making a list of the column names<br>\n",
        "\n",
        "*Syntax*:<br>\n",
        "**data_frame_object_name [ [ 'column_name_1' , 'column_name_2' ] ]**\n",
        "\n",
        "*Usage*:"
      ]
    },
    {
      "cell_type": "code",
      "source": [
        "automobile[['style','price']]"
      ],
      "metadata": {
        "id": "H9V9-w1h6Eoq"
      },
      "execution_count": null,
      "outputs": []
    },
    {
      "cell_type": "markdown",
      "metadata": {
        "id": "6Z6u17u0E-8E"
      },
      "source": [
        "### **🦄Extracting data by Indexing and Slicing**\n",
        "#### **Slicing and subsetting rows**"
      ]
    },
    {
      "cell_type": "code",
      "source": [
        "automobile[0:5]"
      ],
      "metadata": {
        "id": "-eeyD29k7Drr"
      },
      "execution_count": null,
      "outputs": []
    },
    {
      "cell_type": "code",
      "source": [
        "automobile.iloc[1:5, 0:8]"
      ],
      "metadata": {
        "id": "5LwAD4D17D0L"
      },
      "execution_count": null,
      "outputs": []
    },
    {
      "cell_type": "code",
      "source": [
        "automobile.loc[1:5, ['highway mpg','price']]"
      ],
      "metadata": {
        "id": "WqV2W-Cs7EAO"
      },
      "execution_count": null,
      "outputs": []
    },
    {
      "cell_type": "code",
      "source": [
        "automobile.iloc[[1,3,5,10,30], [2,5,1,4]]"
      ],
      "metadata": {
        "id": "H2g28nzV7ERt"
      },
      "execution_count": null,
      "outputs": []
    },
    {
      "cell_type": "markdown",
      "metadata": {
        "id": "mt9ieDjbE-8I"
      },
      "source": [
        "## **🦘Creating Queries**\n",
        "Similar to SQL and R, we can select a subset of our data using criteria\n",
        "\n",
        "*Syntax*:<br>\n",
        "**data_frame_object_name [ < condition > ]**<br>\n",
        "\n",
        "**# Conditions must be based on columns names**\n",
        "\n",
        "*Usage*:"
      ]
    },
    {
      "cell_type": "code",
      "source": [
        "automobile[(automobile['city mpg'] > 21) & (automobile['price'] < 20000)]"
      ],
      "metadata": {
        "id": "wUmNehn0-6lS"
      },
      "execution_count": null,
      "outputs": []
    },
    {
      "cell_type": "markdown",
      "metadata": {
        "id": "7xluvohcFmZA"
      },
      "source": [
        "## 🤔**Data Cleaning**\n",
        "* Replace or drop the values that are irrelevant for the analysis\n",
        "* Drop the unnecessary columns from the dataframe object\n",
        "* Change the datatypes of the columns as needed"
      ]
    },
    {
      "cell_type": "code",
      "execution_count": null,
      "metadata": {
        "id": "UsNqN2_BIHJK"
      },
      "outputs": [],
      "source": [
        "# Replace any missing values with NaNs\n",
        "automobile.replace('?', np.nan, inplace = True)"
      ]
    },
    {
      "cell_type": "code",
      "source": [
        "# Drop the unnecessary columns\n",
        "auto_df = automobile.drop(['normalized losses','symboling'],axis=1)"
      ],
      "metadata": {
        "id": "N2g3u88mVsSc"
      },
      "execution_count": null,
      "outputs": []
    },
    {
      "cell_type": "code",
      "source": [
        "# Drop the NaNs, reset the index\n",
        "auto_df = auto_df.dropna().reset_index().drop(['index'],axis=1)"
      ],
      "metadata": {
        "id": "PaMxLFH0VvLb"
      },
      "execution_count": null,
      "outputs": []
    },
    {
      "cell_type": "code",
      "source": [
        "# Change the datatype of a column as per the requirement\n",
        "auto_df[['price','horsepower']] = auto_df[['price','horsepower']].astype(dtype = 'float64')"
      ],
      "metadata": {
        "id": "GJs3hGkbVyar"
      },
      "execution_count": null,
      "outputs": []
    },
    {
      "cell_type": "markdown",
      "metadata": {
        "id": "1FCGrGDSNCaR"
      },
      "source": [
        "### 😘**Correlation in the Dataframe**\n",
        "\n",
        "* Create a correlation matrix to get the correlation between the variables/features/columns of the dataframe.\n",
        "  * A value of **'1'** represents a **strong positive correlation**, while a **'-1'** means a **strong negative correlation** and a **'0'** has **no correlation**.\n",
        "  * Use pandas' **'corr()'** method on the dataframe object to create the correlation matrix.\n"
      ]
    },
    {
      "cell_type": "code",
      "execution_count": null,
      "metadata": {
        "id": "QMe8GcQBNKa2"
      },
      "outputs": [],
      "source": [
        "# Correlation matrix\n",
        "corr_mat = auto_df.corr(numeric_only=True)\n",
        "corr_mat\n"
      ]
    },
    {
      "cell_type": "markdown",
      "metadata": {
        "id": "5wmW65SPR5Fw"
      },
      "source": [
        "* Visualize these correlations on a heatmap using seaborn's 🤗**'heatmap()'**"
      ]
    },
    {
      "cell_type": "code",
      "execution_count": null,
      "metadata": {
        "id": "ZTMPV1XMP3Cq"
      },
      "outputs": [],
      "source": [
        "# Generate the heatmap\n",
        "sns.heatmap(corr_mat, annot=True, cmap='gray')\n",
        "plt.show()"
      ]
    },
    {
      "cell_type": "markdown",
      "metadata": {
        "id": "qfC7H7NmZsm5"
      },
      "source": [
        "* Visualize the trends, patterns and outliers in the data using seaborn's 😆**'pairplot()'**"
      ]
    },
    {
      "cell_type": "code",
      "execution_count": null,
      "metadata": {
        "id": "MO5gmjZ5ZE3T"
      },
      "outputs": [],
      "source": [
        "# Generate the pairplot\n",
        "sns.pairplot(data=auto_df,hue='style')\n",
        "plt.show()"
      ]
    },
    {
      "cell_type": "markdown",
      "metadata": {
        "id": "wgt7Yxc6WwcV"
      },
      "source": [
        "## **Introduction to Machine Learning**\n",
        "\n",
        " Machine learning enables computers to learn patterns from data and make predictions without explicit programming.\n",
        "It is categorized into:\n",
        " - **Supervised Learning**: Learns from labeled data (e.g., regression, classification).\n",
        "    * Predicting housing prices with continuous output (Regression)\n",
        "    * Email spam detection (Classification)\n",
        "    * Common algorithms: Linear regression, logistic regression, decision trees, random forests\n",
        " - **Unsupervised Learning**: Identifies patterns in unlabeled data (e.g., clustering, anomaly detection).\n",
        "    * Grouping customers based on the purchase behavior (Clustering)\n",
        "    * Reducing high-dimensional data (Dimensionality Reduction)\n",
        "    * Common algorithms: K-means clustering, hierarchial clustering, principal component analysis (PCA)\n",
        " - **Reinforcement Learning**: Learns through trial and error using rewards.\n",
        "    * Stock trading algorithms\n",
        "\n",
        "Key components include data, features, learning algorithms, and models, powering applications like recommendation systems and autonomous vehicles.\n",
        "\n",
        "\n",
        "\n",
        "\n",
        "\n",
        "\n",
        "\n",
        "\n",
        "\n",
        "\n",
        "\n"
      ]
    },
    {
      "cell_type": "markdown",
      "source": [
        "### **Regression**\n",
        "\n",
        "* 🥰**Regression analysis** identifies and analyzes the relationship between 'dependent' (***outcomes/responses***) and 'independent variables' (***predictors/features/covariates***)\n",
        "* Regression is used for forecasting, finding the cause and effect\n",
        "\n",
        "* Some of the basic relations/equations:\n",
        "  * Linear Regression - ***Y = a.X + b + ϵ***\n",
        "  * Multi-linear Regression - ***Y = a$_1$.X$_1$ + a$_2$.X$_2$ + a$_3$.X$_3$ + ....... + a$_n$.X$_n$ + b + ϵ***\n",
        "  * Polynomial Regression - ***Y = a$_1$.X + a$_2$.X$^2$ + a$_3$.X$^3$ + ........ + a$_n$.X$^n$ + b + ϵ***<br>\n",
        "  where, <br> Y = Dependent variable (ARRAY)<br>\n",
        "  X, X$_1$, X$_2$, X$_3$...., X$_n$ = Independent variables (ARRAY) <br>\n",
        "  a, a$_1$, a$_2$, ......, a$_n$ = Slopes/Coefficients of independent variables <br>\n",
        "  b = Intercept<br>\n",
        "  ϵ = Error\n",
        "\n",
        "\n",
        "* Popular libraries, modules and frameworks used for regression analysis in Python - [numpy](https://numpy.org/doc/stable/), [pandas](https://pandas.pydata.org/docs/), [matplotlib](https://matplotlib.org/), [scikit-learn](https://scikit-learn.org/stable/index.html), [statsmodels](https://www.statsmodels.org/stable/index.html), [tensorflow](https://www.tensorflow.org/overview), [pytorch](https://pytorch.org/tutorials/)\n"
      ],
      "metadata": {
        "id": "QHeDCbNKqOCI"
      }
    },
    {
      "cell_type": "markdown",
      "metadata": {
        "id": "8kweomt4xBsz"
      },
      "source": [
        "\n",
        "### 😎**Steps invloved in regression analysis:**\n",
        "  1. ***Data collection***: Gather the data for analysis\n",
        "  2. ***Data cleaning***: Preprocess the data by fixing any errors or missing values, removing the outliers, renaming the variables etc.\n",
        "  3. ***Split the data into training and testing datasets:*** Split the dataset into training and testing datasets for an unbiased evaluation of the model\n",
        "  4. ***Choose the type of regression:*** Depending on the nature of the data and application, choose a regression type to fit the data\n",
        "  5. ***Estimate the coefficients:*** Estimate the parameters/coefficients of regression using the trained model\n",
        "  6. ***Evaluate the model:*** Use the error metrics and the best line/curve to evaluate the model's performance\n",
        "  7. ***Analyze the results:*** Interpret the results from the analysis and establish a relationship between the dependent and independent variables"
      ]
    },
    {
      "cell_type": "markdown",
      "metadata": {
        "id": "bs5GXp5A5j-h"
      },
      "source": [
        "##😙**Linear Regression**\n",
        "* One of the fundamental techniques in Statistics and Machine Learning\n",
        "* It is used when the dependent variables are continuous\n",
        "* Simple, easy to build a model and analyze the results\n",
        "* **Assumptions**:\n",
        "  * All variables are considered continuous\n",
        "  * Data is clean without missing values, and outliers\n",
        "  * Linear relationship between the dependent and independent variables\n",
        "  * All predictors are independent of each other\n",
        "  * Errors are normally distributed\n",
        "\n"
      ]
    },
    {
      "cell_type": "markdown",
      "metadata": {
        "id": "T5g6reUk-5ii"
      },
      "source": [
        "###🤩**Simple Linear Regression**\n",
        "* Simple linear regression has only one independent variable\n",
        "* Here is the general equation for a simple linear regression - <br>\n",
        "  ***Y = a.X + b + ϵ***<br>\n"
      ]
    },
    {
      "cell_type": "code",
      "execution_count": null,
      "metadata": {
        "id": "CwZmwk2Lmcb8"
      },
      "outputs": [],
      "source": [
        "import matplotlib.pyplot as plt\n",
        "from sklearn.linear_model import LinearRegression\n",
        "from sklearn.metrics import mean_squared_error\n",
        "from sklearn.model_selection import train_test_split\n",
        "\n",
        "# Assign data for predictor (independent) variable and target (dependent) variable\n",
        "x = auto_df['horsepower']\n",
        "y = auto_df['price']\n",
        "\n",
        "# Split data into training and testing sets\n",
        "x_train, x_test, y_train, y_test = train_test_split(x, y)\n",
        "\n",
        "# Choose the regression model\n",
        "reg_model = LinearRegression()\n",
        "\n",
        "# Fit the training datasets to the chosen regression model\n",
        "reg_fit = reg_model.fit(x_train, y_train)\n",
        "\n",
        "# Get the coefficient of determination/R-squared value\n",
        "r_sq = reg_fit.score(x_train, y_train)\n",
        "#r_sq = reg_fit.score(x_test, y_test)\n",
        "\n",
        "print(\"Value of R-square: \", r_sq)\n",
        "\n",
        "print(\"Intercept: \", reg_model.intercept_)\n",
        "\n",
        "print(\"Coefficient: \", reg_model.coef_)\n"
      ]
    },
    {
      "cell_type": "markdown",
      "metadata": {
        "id": "p5hicIow_uNx"
      },
      "source": [
        "####**Model Prediction**\n",
        "* Use the test dataset to predict new values from the trained model\n",
        "* Find the mean squared or root mean squared errors between the test set values and the predicted values of the dependent variable\n",
        "* Plot the training dataset and the best-fit line to evaluate the performance of the model\n"
      ]
    },
    {
      "cell_type": "code",
      "execution_count": null,
      "metadata": {
        "id": "esitfOLtmYVG"
      },
      "outputs": [],
      "source": [
        "# Predict the y values using the test dataset\n",
        "y_pred = reg_model.predict(x_test)\n",
        "\n",
        "# Find the mean squared/root mean squared error between the predicted and test datasets of 'y'\n",
        "mse = mean_squared_error(y_test, y_pred)\n",
        "\n",
        "print(\"Mean Squared Error: \", mse)\n",
        "\n",
        "# Visualize the training dataset with a scatterplot\n",
        "plt.scatter(x_train,y_train)\n",
        "\n",
        "# Plot the best fit line using the predicted values of 'y'\n",
        "plt.plot(x_test,y_pred,'r')\n",
        "plt.xlabel('horserpower')\n",
        "plt.ylabel('price')\n",
        "plt.grid()\n",
        "plt.show()\n",
        "\n"
      ]
    },
    {
      "cell_type": "markdown",
      "metadata": {
        "id": "-Z2ns7CW--TG"
      },
      "source": [
        "###🤨**Multi-linear Regression**\n",
        "* Linear regression with two or more independent variables\n",
        "* General equation for the multi-linear regression:<br>\n",
        "  ***Y = a$_1$.X$_1$ + a$_2$.X$_2$ + a$_3$.X$_3$ + ....... + a$_n$.X$_n$ + b + ϵ***"
      ]
    },
    {
      "cell_type": "code",
      "execution_count": null,
      "metadata": {
        "id": "Q4br1nmsmV99"
      },
      "outputs": [],
      "source": [
        "x1 = auto_df[[\"engine size\", \"horsepower\", \"curb weight\", \"highway mpg\", \"city mpg\", \"wheel base\"]]\n",
        "y1 = auto_df['price']\n",
        "\n",
        "# Split data into training and testing sets\n",
        "x1_train, x1_test, y1_train, y1_test = train_test_split(x1, y1, test_size=0.2, random_state=42)\n",
        "\n",
        "# Choose the model and fit the training datasets to the model\n",
        "multi_model = LinearRegression().fit(x1_train, y1_train)\n",
        "\n",
        "# Get the R-squared value from the training datasets (Recommended to use test dataset)\n",
        "r_sq = multi_model.score(x1_train, y1_train)\n",
        "\n",
        "print(\"Value of R-squared: \", r_sq)\n",
        "\n",
        "print(\"Intercept: \", multi_model.intercept_)\n",
        "\n",
        "print(\"Coefficients: \", multi_model.coef_)"
      ]
    },
    {
      "cell_type": "markdown",
      "metadata": {
        "id": "APpdceT-UaL0"
      },
      "source": [
        "####**Model Prediction**\n"
      ]
    },
    {
      "cell_type": "code",
      "execution_count": null,
      "metadata": {
        "id": "0fUzBZq-mSAV"
      },
      "outputs": [],
      "source": [
        "# Predict the y1 values from test dataset\n",
        "y1_pred = multi_model.predict(x1_test)\n",
        "\n",
        "# Find the mean squared/root mean squared error between the predicted and test datasets of 'y'\n",
        "mse = mean_squared_error(y1_test, y1_pred)\n",
        "\n",
        "print(\"Mean Squared Error: \", mse)\n"
      ]
    },
    {
      "cell_type": "markdown",
      "source": [
        "## **Logistic Regression**\n",
        "\n"
      ],
      "metadata": {
        "id": "6xXL-V6Xz3rP"
      }
    },
    {
      "cell_type": "markdown",
      "source": [
        "* Logistic Regression is a classification algorithm that maps continuous values into probability scores using the sigmoid function.\n",
        "\n",
        "* An extension to the linear regression\n",
        "\n",
        "* A threshold (typically 0.5) is used to distinguish between classes."
      ],
      "metadata": {
        "id": "d-aSwyXl2cnM"
      }
    },
    {
      "cell_type": "code",
      "source": [
        "# Logistic Regression: Classifying Fuel Type\n",
        "\n",
        "from sklearn.linear_model import LogisticRegression\n",
        "from sklearn.metrics import accuracy_score, classification_report\n",
        "\n",
        "auto_df[\"fuel type\"] = auto_df[\"fuel type\"].map({\"gas\": 0, \"diesel\": 1})\n",
        "X_cls = auto_df[[\"engine size\", \"curb weight\", \"city mpg\", \"horsepower\", \"highway mpg\"]]\n",
        "y_cls = auto_df[\"fuel type\"]\n",
        "\n",
        "x2_train, x2_test, y2_train, y2_test = train_test_split(X_cls, y_cls, test_size=0.2, random_state=42)\n",
        "\n",
        "clf = LogisticRegression()\n",
        "clf.fit(x2_train, y2_train)\n",
        "\n",
        "y_pred_cls = clf.predict(x2_test)\n",
        "print(\"Logistic Regression Accuracy:\", accuracy_score(y2_test, y_pred_cls))\n",
        "print(\"Classification Report:\\n\", classification_report(y2_test, y_pred_cls))"
      ],
      "metadata": {
        "id": "LShvzIimp5Av"
      },
      "execution_count": null,
      "outputs": []
    },
    {
      "cell_type": "markdown",
      "metadata": {
        "id": "w35zoG8f_cEd"
      },
      "source": [
        "###**Resources**\n",
        "1. [Elegant SciPy](http://uclid.uc.edu/record=b8339887~S39)\n",
        "2. [CEAS Library Python resources](http://guides.libraries.uc.edu/python)\n",
        "3. Online links & tutorials\n",
        " * [Numpy documentation](https://numpy.org/doc/stable/)\n",
        " * [Linear regression in Python](https://realpython.com/linear-regression-in-python/)\n",
        " * [Introduction to linear regression](https://towardsdatascience.com/introduction-to-linear-regression-in-python-c12a072bedf0)\n",
        " * [Scikit-learn documentation](https://scikit-learn.org/stable/index.html)\n",
        " * [Python documentation](https://www.python.org/doc/)\n",
        " * [Python programming wiki book](http://en.wikibooks.org/wiki/Python_Programming)\n",
        " * Python tutorials - Udemy, Code academy, etc\n"
      ]
    }
  ],
  "metadata": {
    "colab": {
      "provenance": []
    },
    "kernelspec": {
      "display_name": "Python 3",
      "name": "python3"
    },
    "language_info": {
      "name": "python"
    }
  },
  "nbformat": 4,
  "nbformat_minor": 0
}
